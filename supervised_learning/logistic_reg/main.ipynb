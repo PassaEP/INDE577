{
 "cells": [
  {
   "cell_type": "code",
   "execution_count": 20,
   "metadata": {},
   "outputs": [],
   "source": [
    "from sklearn import datasets\n",
    "import matplotlib.pyplot as plt\n",
    "import numpy as np\n",
    "import pandas as pd\n",
    "import seaborn as sns\n",
    "from sklearn.model_selection import train_test_split\n"
   ]
  },
  {
   "cell_type": "code",
   "execution_count": 2,
   "metadata": {},
   "outputs": [],
   "source": [
    "import matplotlib.pyplot as plt\n",
    "\n",
    "class LogisticRegression:\n",
    "    def __init__(self, learning_rate=0.01, num_iterations=1000):\n",
    "        self.learning_rate = learning_rate\n",
    "        self.num_iterations = num_iterations\n",
    "        self.weights = None\n",
    "        self.bias = None\n",
    "        self.loss_history = []  # List to store loss values\n",
    "        \n",
    "    def sigmoid(self, z):\n",
    "        return 1 / (1 + np.exp(-z))\n",
    "    \n",
    "    def compute_loss(self, y_true, y_pred):\n",
    "        epsilon = 1e-15  # Small value to avoid division by zero\n",
    "        loss = -np.mean(y_true * np.log(y_pred + epsilon) + (1 - y_true) * np.log(1 - y_pred + epsilon))\n",
    "        return loss\n",
    "    \n",
    "    def fit(self, X, y):\n",
    "        num_samples, num_features = X.shape\n",
    "        self.weights = np.zeros(num_features)\n",
    "        self.bias = 0\n",
    "        \n",
    "        # Gradient Descent\n",
    "        for _ in range(self.num_iterations):\n",
    "            linear_model = np.dot(X, self.weights) + self.bias\n",
    "            y_pred = self.sigmoid(linear_model)\n",
    "            \n",
    "            dw = (1 / num_samples) * np.dot(X.T, (y_pred - y))\n",
    "            db = (1 / num_samples) * np.sum(y_pred - y)\n",
    "            \n",
    "            self.weights -= self.learning_rate * dw\n",
    "            self.bias -= self.learning_rate * db\n",
    "            \n",
    "            # Calculate and store loss\n",
    "            loss = self.compute_loss(y, y_pred)\n",
    "            self.loss_history.append(loss)\n",
    "    \n",
    "    def predict(self, X):\n",
    "        linear_model = np.dot(X, self.weights) + self.bias\n",
    "        y_pred = self.sigmoid(linear_model)\n",
    "        return [1 if i > 0.5 else 0 for i in y_pred]"
   ]
  },
  {
   "cell_type": "code",
   "execution_count": 36,
   "metadata": {},
   "outputs": [],
   "source": [
    "data = datasets.load_breast_cancer()\n",
    "X = pd.DataFrame(data.data, columns=data.feature_names)\n",
    "y = pd.Series(data.target)\n",
    "from sklearn.preprocessing import StandardScaler\n",
    "scaler = StandardScaler() # scale features, otherwise the sigmoid function will explode\n",
    "X_scaled = scaler.fit_transform(X)"
   ]
  },
  {
   "cell_type": "code",
   "execution_count": 43,
   "metadata": {},
   "outputs": [
    {
     "name": "stdout",
     "output_type": "stream",
     "text": [
      "Accuracy: 0.9824561403508771\n"
     ]
    }
   ],
   "source": [
    "\n",
    "model = LogisticRegression(learning_rate=0.02, num_iterations=2000)\n",
    "X_train, X_test, y_train, y_test = train_test_split(X_scaled, y, test_size=0.2, random_state=42)\n",
    "# Train the model on the training data\n",
    "model.fit(X_train, y_train)\n",
    "\n",
    "# Make predictions on the testing data\n",
    "predictions = model.predict(X_test)\n",
    "\n",
    "# Evaluate the model (e.g., using accuracy, precision, recall, F1-score, etc.)\n",
    "accuracy = np.mean(predictions == y_test)\n",
    "print(\"Accuracy:\", accuracy)\n"
   ]
  },
  {
   "cell_type": "code",
   "execution_count": 51,
   "metadata": {},
   "outputs": [
    {
     "data": {
      "image/png": "[encoded data removed]",
      "text/plain": [
       "<Figure size 640x480 with 1 Axes>"
      ]
     },
     "metadata": {},
     "output_type": "display_data"
    },
    {
     "name": "stdout",
     "output_type": "stream",
     "text": [
      "Final loss value: 0.0737\n"
     ]
    }
   ],
   "source": [
    "# Plot training loss\n",
    "plt.plot(range(1, len(model.loss_history) + 1), model.loss_history)\n",
    "plt.xlabel('Iterations')\n",
    "plt.ylabel('Training Loss')\n",
    "plt.title('Training Loss over Iterations')\n",
    "plt.show()\n",
    "print(f\"Final loss value: {model.loss_history[1999]:.4f}\")\n"
   ]
  },
  {
   "cell_type": "markdown",
   "metadata": {},
   "source": [
    "## Breast Cancer Diagnosis with Machine Learning\n",
    "\n",
    "### Results Summary\n",
    "\n",
    "Our machine learning model achieved impressive performance when tasked with diagnosing breast cancer using a comprehensive set of features derived from medical imaging data. Here are the key findings:\n",
    "\n",
    "- **Test Accuracy:** The model achieved an accuracy of 98% on unseen test data, indicating its ability to accurately distinguish between malignant and benign tumors.\n",
    "- **Training Loss:** The training loss reached a minimal value of 0.2 towards the end of the training process, suggesting effective optimization and convergence.\n",
    "\n",
    "### Feature Set\n",
    "\n",
    "The model utilized a wide range of features related to tumor morphology and texture, including:\n",
    "\n",
    "- Mean radius\n",
    "- Mean texture\n",
    "- Mean perimeter\n",
    "- Mean area\n",
    "- Mean smoothness\n",
    "- Mean compactness\n",
    "- Mean concavity\n",
    "- Mean concave points\n",
    "- Mean symmetry\n",
    "- Mean fractal dimension\n",
    "- ... and additional features capturing various aspects of tumor characteristics.\n",
    "\n",
    "### Biological Context\n",
    "\n",
    "Breast cancer is a complex disease with diverse subtypes and underlying biological mechanisms. While our model demonstrates promising performance, it's essential to consider the broader biological context:\n",
    "\n",
    "- **Heterogeneity:** Breast cancer exhibits considerable heterogeneity, influenced by factors such as genetic mutations, hormone receptor status, and patient-specific characteristics.\n",
    "- **Clinical Interpretation:** Interpretation of machine learning results in medical contexts requires collaboration between data scientists and clinicians. Our model can provide valuable insights but should be complemented by clinical expertise.\n",
    "\n",
    "### Conclusion\n",
    "\n",
    "Our findings highlight the potential of machine learning in improving breast cancer diagnosis and management. Continued research and collaboration between data scientists, clinicians, and researchers are crucial for leveraging these technologies to enhance patient outcomes in oncology.\n"
   ]
  }
 ],
 "metadata": {
  "kernelspec": {
   "display_name": "ml",
   "language": "python",
   "name": "python3"
  },
  "language_info": {
   "codemirror_mode": {
    "name": "ipython",
    "version": 3
   },
   "file_extension": ".py",
   "mimetype": "text/x-python",
   "name": "python",
   "nbconvert_exporter": "python",
   "pygments_lexer": "ipython3",
   "version": "3.12.3"
  }
 },
 "nbformat": 4,
 "nbformat_minor": 2
}
